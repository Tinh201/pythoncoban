{
 "cells": [
  {
   "cell_type": "code",
   "execution_count": null,
   "id": "211c1fa2",
   "metadata": {},
   "outputs": [],
   "source": [
    "\n",
    "def get_min_numbers(numbers):\n",
    "    for num in numbers:\n",
    "            if result > num:\n",
    "                result = num\n",
    "                return result\n",
    "     \n",
    "numbers = input(\"nhập vào phần tử\")\n",
    "min_number = get_min_numbers(numbers)\n",
    "print(\"Min number: \", min_number)"
   ]
  },
  {
   "cell_type": "code",
   "execution_count": null,
   "id": "7b8b06b8",
   "metadata": {},
   "outputs": [],
   "source": []
  },
  {
   "cell_type": "code",
   "execution_count": null,
   "id": "82df01bc",
   "metadata": {},
   "outputs": [],
   "source": []
  }
 ],
 "metadata": {
  "kernelspec": {
   "display_name": "Python 3 (ipykernel)",
   "language": "python",
   "name": "python3"
  },
  "language_info": {
   "codemirror_mode": {
    "name": "ipython",
    "version": 3
   },
   "file_extension": ".py",
   "mimetype": "text/x-python",
   "name": "python",
   "nbconvert_exporter": "python",
   "pygments_lexer": "ipython3",
   "version": "3.9.7"
  }
 },
 "nbformat": 4,
 "nbformat_minor": 5
}
