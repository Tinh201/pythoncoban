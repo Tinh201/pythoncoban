{
 "cells": [
  {
   "cell_type": "code",
   "execution_count": 3,
   "id": "5b8451d3",
   "metadata": {},
   "outputs": [
    {
     "name": "stdout",
     "output_type": "stream",
     "text": [
      "Nhập chiều cao m: 171\n",
      "Nhập cân nặng kg: 70\n",
      "gầy cấp độ III\n"
     ]
    }
   ],
   "source": [
    "chieucao = int(input(\"Nhập chiều cao m: \"))\n",
    "cannang = int(input(\"Nhập cân nặng kg: \"))\n",
    "\n",
    "BMI = cannang/(chieucao*2)\n",
    "\n",
    "if BMI>40:\n",
    "    print(\"béo phì cấp độ III\")\n",
    "elif 35<=BMI<40:\n",
    "    print(\"béo phì cấp độ II\")\n",
    "elif 30<=BMI<35:\n",
    "    print(\"béo phì cấp độ I\")\n",
    "elif 25<=BMI<30:\n",
    "    print(\"thừa cân\")\n",
    "elif 18.5<=BMI<25:\n",
    "    print(\"Bình thường\")\n",
    "elif 17<=BMI<18.5:\n",
    "    print(\"gầy cấp độ I\")\n",
    "elif 16<=BMI<17:\n",
    "    print(\"gầy cấp độ II\")\n",
    "else:\n",
    "    print(\"gầy cấp độ III\")"
   ]
  },
  {
   "cell_type": "code",
   "execution_count": null,
   "id": "df2c7747",
   "metadata": {},
   "outputs": [],
   "source": []
  }
 ],
 "metadata": {
  "kernelspec": {
   "display_name": "Python 3 (ipykernel)",
   "language": "python",
   "name": "python3"
  },
  "language_info": {
   "codemirror_mode": {
    "name": "ipython",
    "version": 3
   },
   "file_extension": ".py",
   "mimetype": "text/x-python",
   "name": "python",
   "nbconvert_exporter": "python",
   "pygments_lexer": "ipython3",
   "version": "3.9.7"
  }
 },
 "nbformat": 4,
 "nbformat_minor": 5
}
